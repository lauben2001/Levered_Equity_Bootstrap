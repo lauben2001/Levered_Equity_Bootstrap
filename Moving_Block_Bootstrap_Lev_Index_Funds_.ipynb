{
  "cells": [
    {
      "cell_type": "markdown",
      "metadata": {
        "id": "view-in-github",
        "colab_type": "text"
      },
      "source": [
        "<a href=\"https://colab.research.google.com/github/lauben2001/Levered_Equity_Bootstrap/blob/main/Moving_Block_Bootstrap_Lev_Index_Funds_.ipynb\" target=\"_parent\"><img src=\"https://colab.research.google.com/assets/colab-badge.svg\" alt=\"Open In Colab\"/></a>"
      ]
    },
    {
      "cell_type": "markdown",
      "metadata": {
        "id": "RQoU8XkL9Vxe"
      },
      "source": [
        "# **Moving Block Bootstrap - Leveraged S&P500 ETF**"
      ]
    },
    {
      "cell_type": "code",
      "execution_count": null,
      "metadata": {
        "id": "hAq7rh3qGHSI"
      },
      "outputs": [],
      "source": [
        "pip install arch"
      ]
    },
    {
      "cell_type": "code",
      "execution_count": null,
      "metadata": {
        "colab": {
          "base_uri": "https://localhost:8080/"
        },
        "id": "HubTaNfc8vuD",
        "outputId": "16789088-163f-432b-8049-1a7cc9ca77cb"
      },
      "outputs": [
        {
          "output_type": "stream",
          "name": "stdout",
          "text": [
            "Mounted at /content/drive\n"
          ]
        }
      ],
      "source": [
        "import numpy as np\n",
        "import pandas as pd\n",
        "import random\n",
        "from pandas_datareader import data as pdr\n",
        "from google.colab import drive\n",
        "drive.mount(\"/content/drive\")"
      ]
    },
    {
      "cell_type": "code",
      "execution_count": null,
      "metadata": {
        "id": "ojRSTaUjVBD4"
      },
      "outputs": [],
      "source": [
        "import arch as arch\n",
        "from arch.bootstrap import optimal_block_length"
      ]
    },
    {
      "cell_type": "code",
      "execution_count": null,
      "metadata": {
        "id": "kNU-vvaaDEwu"
      },
      "outputs": [],
      "source": [
        "#Importieren der Daten & Cleanen\n",
        "path=\"/content/drive/MyDrive/Daten - Phyton /SPX Daily Returns.xlsx\"\n",
        "sheet_name= \"Tabelle1\"\n",
        "df_SPX_returns =pd.read_excel(path,sheet_name)\n",
        "df_SPX_returns = df_SPX_returns.drop(columns=['Date', 'Adj Close**'])\n",
        "df_SPX_returns = df_SPX_returns.drop(0, axis=0)\n",
        "df_returns = df_SPX_returns.rename(columns={'Return': 'Daily Returns SPX'})\n",
        "df_returns"
      ]
    },
    {
      "cell_type": "code",
      "execution_count": null,
      "metadata": {
        "colab": {
          "base_uri": "https://localhost:8080/"
        },
        "id": "Pl_06NbF9K6-",
        "outputId": "f3d61082-c5a0-47e4-aa01-eb3b88aceeb3"
      },
      "outputs": [
        {
          "output_type": "stream",
          "name": "stdout",
          "text": [
            "Return    -0.119799\n",
            "dtype: float64\n"
          ]
        }
      ],
      "source": [
        "print(df_SPX_returns.min())"
      ]
    },
    {
      "cell_type": "code",
      "execution_count": null,
      "metadata": {
        "id": "B5n7-BVrFmiw"
      },
      "outputs": [],
      "source": [
        "#Pick random x-Block\n",
        "def BlockPick(df,block_size):\n",
        "  max_number = len(df) - block_size\n",
        "  rand_number_pick =random.randint(0, max_number)\n",
        "  df_block = df.iloc[rand_number_pick: rand_number_pick+ block_size]\n",
        "  return df_block"
      ]
    },
    {
      "cell_type": "code",
      "execution_count": null,
      "metadata": {
        "id": "U2TQ-guDM4kQ"
      },
      "outputs": [],
      "source": [
        "#Kreeiert einen simulierten Pfad für die gegebene Zeitreihe\n",
        "def SimulatePath(df,simulated_years, blocksize):\n",
        "  number_of_picks = round((simulated_years*252) / blocksize)\n",
        "  for i in range(number_of_picks):\n",
        "    if i ==0:\n",
        "      df_one_path = BlockPick(df, blocksize)\n",
        "    else:\n",
        "      df_one_path = pd.concat([df_one_path, BlockPick(df, blocksize)])\n",
        "  return df_one_path"
      ]
    },
    {
      "cell_type": "code",
      "execution_count": null,
      "metadata": {
        "id": "ybcYEirglfq8"
      },
      "outputs": [],
      "source": [
        "def max_drawdown(returns: pd.DataFrame) -> float:\n",
        "# Calculate the cumulative returns\n",
        "  cum_returns = (1 + returns).cumprod()\n",
        "# Calculate the running maximum\n",
        "  running_max = np.maximum.accumulate(cum_returns)\n",
        "  # Calculate the drawdown\n",
        "  drawdown = (cum_returns / running_max) - 1\n",
        "# Calculate the maximum drawdown\n",
        "  max_drawdown = drawdown.min()\n",
        "  return max_drawdown"
      ]
    },
    {
      "cell_type": "markdown",
      "metadata": {
        "id": "SzecNtp-WiPR"
      },
      "source": [
        "# **Basis Szenario: Keine Restriktionen**"
      ]
    },
    {
      "cell_type": "code",
      "execution_count": null,
      "metadata": {
        "id": "9727Ep90gyA8"
      },
      "outputs": [],
      "source": [
        "blocksize= round(optimal_block_length(df_SPX_returns)[\"circular\"].iloc[0])\n",
        "\n",
        "#How many leverage factors do you want?\n",
        "number_of_leverage_factors= 5\n",
        "#1. Create  Containers for results\n",
        "ret_1Y = [[]*0 for i in range(number_of_leverage_factors)]\n",
        "ret_2Y = [[]*0 for i in range(number_of_leverage_factors)]\n",
        "ret_3Y = [[]*0 for i in range(number_of_leverage_factors)]\n",
        "ret_5Y = [[]*0 for i in range(number_of_leverage_factors)]\n",
        "ret_10Y = [[]*0 for i in range(number_of_leverage_factors)]\n",
        "ret_15Y = [[]*0 for i in range(number_of_leverage_factors)]\n",
        "ret_20Y = [[]*0 for i in range(number_of_leverage_factors)]\n",
        "\n",
        "#2. Create Paths\n",
        "number_of_path = 500000\n",
        "for j in range(number_of_path):\n",
        "  df_path= SimulatePath(df= df_SPX_returns,simulated_years= 20, blocksize = blocksize)                 #Create one simumalted Path\n",
        "  index = 0\n",
        "  for lev in range(1,number_of_leverage_factors+1):                                                     #Für Leverage Faktor 1-5\n",
        "    df_lev_path = df_path * lev                                                                       #Simulierte Tagesrenditen * Leverage Faktor\n",
        "    df_cum_ret_path = (1 + df_lev_path).cumprod() - 1                                                     #Kumullierte Renditereihe\n",
        "\n",
        "    print(\"Minimum des CumPaths \" + str(lev)+\": \" +str(df_cum_ret_path.min()))\n",
        "    #1. Year\n",
        "    ret_1Y[lev-1].append(df_cum_ret_path.iloc[252, 0])\n",
        "    #2. Year\n",
        "    ret_2Y[lev-1].append(df_cum_ret_path.iloc[504, 0])\n",
        "    #3. Year\n",
        "    ret_2Y[lev-1].append(df_cum_ret_path.iloc[756, 0])\n",
        "    #5. Year\n",
        "    ret_5Y[lev-1].append(df_cum_ret_path.iloc[1260, 0])\n",
        "    #10. Year\n",
        "    ret_10Y[lev-1].append(df_cum_ret_path.iloc[2772, 0])\n",
        "    #15. Year\n",
        "    ret_15Y[lev-1].append(df_cum_ret_path.iloc[3780, 0])\n",
        "    #20. Year\n",
        "    ret_20Y[lev-1].append(df_cum_ret_path.iloc[-1, 0])\n",
        "\n",
        "\n",
        "#Creation of all dataFrames\n",
        "df_1Y = pd.DataFrame(index = [\"99%\", \"95%\",\"90%\", \"75%\", \"50%\",\"25%\",\"10%\", \"5%\", \"1%\"])\n",
        "df_2Y = pd.DataFrame(index = [\"99%\", \"95%\",\"90%\", \"75%\", \"50%\",\"25%\",\"10%\", \"5%\", \"1%\"])\n",
        "df_5Y = pd.DataFrame(index = [\"99%\", \"95%\",\"90%\", \"75%\", \"50%\",\"25%\",\"10%\", \"5%\", \"1%\"])\n",
        "df_10Y = pd.DataFrame(index = [\"99%\", \"95%\",\"90%\", \"75%\", \"50%\",\"25%\",\"10%\", \"5%\", \"1%\"])\n",
        "df_15Y = pd.DataFrame(index = [\"99%\", \"95%\",\"90%\", \"75%\", \"50%\",\"25%\",\"10%\", \"5%\", \"1%\"])\n",
        "df_20Y = pd.DataFrame(index = [\"99%\", \"95%\",\"90%\", \"75%\", \"50%\",\"25%\",\"10%\", \"5%\", \"1%\"])\n",
        "\n",
        "list_lists = [ret_1Y,ret_2Y, ret_5Y, ret_10Y, ret_15Y, ret_20Y]\n",
        "list_dfs = [df_1Y, df_2Y, df_5Y, df_10Y, df_15Y, df_20Y]\n",
        "\n",
        "yrs = 0\n",
        "for  ret in list_lists:\n",
        "  ret_quantils = []\n",
        "  index = 0\n",
        "  for lev in range(1,number_of_leverage_factors+1):\n",
        "    ret_quantils = []\n",
        "    ret_quantil = [np.quantile(ret[index], 0.01),np.quantile(ret[index], 0.05),np.quantile(ret[index], 0.1),np.quantile(ret[index], 0.25), np.quantile(ret[index], 0.5),np.quantile(ret[index], 0.75),np.quantile(ret[index], 0.9),np.quantile(ret[index], 0.95),np.quantile(ret[index], 0.99)]\n",
        "    col_name =  \"Return LevFactor\" + str(lev)\n",
        "    list_dfs[yrs][col_name] = ret_quantil\n",
        "    index = index +1\n",
        "  yrs = yrs + 1\n",
        "\n",
        "\n",
        "with pd.ExcelWriter(r'/content/drive/MyDrive/Daten2_SimulationResults.xlsx') as writer:\n",
        "  df_1Y.to_excel(writer, sheet_name='Returns 1Y')\n",
        "  df_2Y.to_excel(writer, sheet_name='Returns 2Y')\n",
        "  df_5Y.to_excel(writer, sheet_name='Returns 5Y')\n",
        "  df_10Y.to_excel(writer, sheet_name='Returns 10Y')\n",
        "  df_15Y.to_excel(writer, sheet_name='Returns 15Y')\n",
        "  df_20Y.to_excel(writer, sheet_name='Returns 20Y')\n",
        "\n",
        "#yrs = 0\n",
        "#for  ret in list_lists:\n",
        "#  ret_quantils = []\n",
        "#  index = 0\n",
        "#  for lev in range(1,number_of_leverage_factors+1):\n",
        "#    if lev ==1 :\n",
        "#      ret_quantils = []\n",
        "#      ret_quantils = [np.quantile(ret[index], 0.01),np.quantile(ret[index], 0.05),np.quantile(ret[index], 0.1),np.quantile(ret[index], 0.25), np.quantile(ret[index], 0.5),np.quantile(ret[index], 0.75),np.quantile(ret[index], 0.9),np.quantile(ret[index], 0.95),np.quantile(ret[index], 0.99)]\n",
        "#      col_name =  \"Return LevFactor\" + str(lev)\n",
        "#      list_dfs[yrs][col_name] = ret_quantils\n",
        "#    else:\n",
        "#      ret_2quantils = []\n",
        "#      ret_2quantils = [ret[lev-1,ret[0].index(ret_quantils[0]])]\n",
        "\n",
        "#      col_name =  \"Return LevFactor\" + str(lev)\n",
        "#      list_dfs[yrs][col_name] = ret_2quantils\n",
        "#    index = index +1\n",
        "#  yrs = yrs + 1\n",
        "\n",
        "\n",
        "\n",
        "#2ter DataFrames -->Pfade von Lev 1 Quantilen\n",
        "\n",
        "\n",
        "\n",
        "\n",
        "\n",
        "\n",
        "\n",
        "\n"
      ]
    },
    {
      "cell_type": "markdown",
      "metadata": {
        "id": "vJHoV__vHcjC"
      },
      "source": [
        "#**NegativSzenario: mind. -10% im Ersten Jahr**"
      ]
    },
    {
      "cell_type": "code",
      "execution_count": null,
      "metadata": {
        "id": "-a5zmvw8HuL5"
      },
      "outputs": [],
      "source": [
        "blocksize= round(optimal_block_length(df_SPX_returns)[\"circular\"].iloc[0])\n",
        "\n",
        "#How many leverage factors do you want?\n",
        "number_of_leverage_factors= 5\n",
        "#1. Create  Containers for results\n",
        "ret_1Y = [[]*0 for i in range(number_of_leverage_factors)]\n",
        "ret_2Y = [[]*0 for i in range(number_of_leverage_factors)]\n",
        "ret_3Y = [[]*0 for i in range(number_of_leverage_factors)]\n",
        "ret_5Y = [[]*0 for i in range(number_of_leverage_factors)]\n",
        "ret_10Y = [[]*0 for i in range(number_of_leverage_factors)]\n",
        "ret_15Y = [[]*0 for i in range(number_of_leverage_factors)]\n",
        "ret_20Y = [[]*0 for i in range(number_of_leverage_factors)]\n",
        "\n",
        "#2. Create Paths\n",
        "number_of_path = 10000\n",
        "passed_paths = 0\n",
        "while passed_paths < number_of_path:\n",
        "  df_path= SimulatePath(df= df_SPX_returns,simulated_years= 20, blocksize = blocksize)                 #Create one simumalted Path\n",
        "  df_cum_ret_path = (1 + df_path).cumprod() - 1\n",
        "  if df_cum_ret_path.iloc[252, 0] < -0.1:\n",
        "    passed_paths = passed_paths +1\n",
        "    index = 0\n",
        "    print(passed_paths)\n",
        "    for lev in range(1,number_of_leverage_factors+1):                                                     #Für Leverage Faktor 1-5\n",
        "      df_lev_path = df_path * lev                                                                       #Simulierte Tagesrenditen * Leverage Faktor\n",
        "      df_cum_ret_path = (1 + df_lev_path).cumprod() - 1                                                     #Kumullierte Renditereihe\n",
        "\n",
        "      #print(\"Minimum des CumPaths \" + str(lev)+\": \" +str(df_cum_ret_path.min()))\n",
        "      #1. Year\n",
        "      ret_1Y[lev-1].append(df_cum_ret_path.iloc[252, 0])\n",
        "      #2. Year\n",
        "      ret_2Y[lev-1].append(df_cum_ret_path.iloc[504, 0])\n",
        "      #3. Year\n",
        "      ret_2Y[lev-1].append(df_cum_ret_path.iloc[756, 0])\n",
        "      #5. Year\n",
        "      ret_5Y[lev-1].append(df_cum_ret_path.iloc[1260, 0])\n",
        "      #10. Year\n",
        "      ret_10Y[lev-1].append(df_cum_ret_path.iloc[2772, 0])\n",
        "      #15. Year\n",
        "      ret_15Y[lev-1].append(df_cum_ret_path.iloc[3780, 0])\n",
        "      #20. Year\n",
        "      ret_20Y[lev-1].append(df_cum_ret_path.iloc[-1, 0])\n",
        "\n",
        "#Creation of all dataFrames\n",
        "df_1Y = pd.DataFrame(index = [\"99%\", \"95%\",\"90%\", \"75%\", \"50%\",\"25%\",\"10%\", \"5%\", \"1%\"])\n",
        "df_2Y = pd.DataFrame(index = [\"99%\", \"95%\",\"90%\", \"75%\", \"50%\",\"25%\",\"10%\", \"5%\", \"1%\"])\n",
        "df_5Y = pd.DataFrame(index = [\"99%\", \"95%\",\"90%\", \"75%\", \"50%\",\"25%\",\"10%\", \"5%\", \"1%\"])\n",
        "df_10Y = pd.DataFrame(index = [\"99%\", \"95%\",\"90%\", \"75%\", \"50%\",\"25%\",\"10%\", \"5%\", \"1%\"])\n",
        "df_15Y = pd.DataFrame(index = [\"99%\", \"95%\",\"90%\", \"75%\", \"50%\",\"25%\",\"10%\", \"5%\", \"1%\"])\n",
        "df_20Y = pd.DataFrame(index = [\"99%\", \"95%\",\"90%\", \"75%\", \"50%\",\"25%\",\"10%\", \"5%\", \"1%\"])\n",
        "\n",
        "list_lists = [ret_1Y,ret_2Y, ret_5Y, ret_10Y, ret_15Y, ret_20Y]\n",
        "list_dfs = [df_1Y, df_2Y, df_5Y, df_10Y, df_15Y, df_20Y]\n",
        "\n",
        "yrs = 0\n",
        "for  ret in list_lists:\n",
        "  ret_quantils = []\n",
        "  index = 0\n",
        "  for lev in range(1,number_of_leverage_factors+1):\n",
        "    ret_quantils = []\n",
        "    ret_quantil = [np.quantile(ret[index], 0.01),np.quantile(ret[index], 0.05),np.quantile(ret[index], 0.1),np.quantile(ret[index], 0.25), np.quantile(ret[index], 0.5),np.quantile(ret[index], 0.75),np.quantile(ret[index], 0.9),np.quantile(ret[index], 0.95),np.quantile(ret[index], 0.99)]\n",
        "    col_name =  \"Return LevFactor\" + str(lev)\n",
        "    list_dfs[yrs][col_name] = ret_quantil\n",
        "    index = index +1\n",
        "  yrs = yrs + 1\n",
        "\n",
        "\n",
        "with pd.ExcelWriter(r'/content/drive/MyDrive/NegativSzenario(-10%)_Simulation.xlsx') as writer:\n",
        "  df_1Y.to_excel(writer, sheet_name='Returns 1Y')\n",
        "  df_2Y.to_excel(writer, sheet_name='Returns 2Y')\n",
        "  df_5Y.to_excel(writer, sheet_name='Returns 5Y')\n",
        "  df_10Y.to_excel(writer, sheet_name='Returns 10Y')\n",
        "  df_15Y.to_excel(writer, sheet_name='Returns 15Y')\n",
        "  df_20Y.to_excel(writer, sheet_name='Returns 20Y')\n",
        "\n",
        "print(\"DONE!\")"
      ]
    }
  ],
  "metadata": {
    "colab": {
      "provenance": [],
      "authorship_tag": "ABX9TyO+86NBAgqlhlvNSsdUjbif",
      "include_colab_link": true
    },
    "kernelspec": {
      "display_name": "Python 3",
      "name": "python3"
    },
    "language_info": {
      "name": "python"
    }
  },
  "nbformat": 4,
  "nbformat_minor": 0
}